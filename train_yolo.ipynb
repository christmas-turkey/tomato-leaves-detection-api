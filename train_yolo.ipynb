{
 "cells": [
  {
   "cell_type": "markdown",
   "metadata": {},
   "source": [
    "# Train YOLO model and save the weights"
   ]
  },
  {
   "cell_type": "code",
   "execution_count": 1,
   "metadata": {},
   "outputs": [],
   "source": [
    "import os\n",
    "import shutil\n",
    "import torch\n",
    "from ultralytics import YOLO\n",
    "\n",
    "from src.config import ROOT_DIR, YOLO_WEIGHTS_PATH"
   ]
  },
  {
   "cell_type": "markdown",
   "metadata": {},
   "source": [
    "### Download dataset"
   ]
  },
  {
   "cell_type": "code",
   "execution_count": null,
   "metadata": {},
   "outputs": [],
   "source": [
    "!pip install kaggle"
   ]
  },
  {
   "cell_type": "code",
   "execution_count": null,
   "metadata": {},
   "outputs": [],
   "source": [
    "!kaggle datasets download kpoviesistphane/tomato-leaf-disease-detection --unzip"
   ]
  },
  {
   "cell_type": "code",
   "execution_count": null,
   "metadata": {},
   "outputs": [],
   "source": [
    "def change_dataset_config_pathnames(\n",
    "    config_file_path: str,\n",
    "    train_images_path: str,\n",
    "    valid_images_path: str,\n",
    "    test_images_path: str, \n",
    ") -> None:\n",
    "    \"\"\"\n",
    "    Change the pathnames of train, validation, and test images folders in the dataset config file.\n",
    "\n",
    "    Args:\n",
    "        config_file_path (str): The path to the dataset config file.\n",
    "        train_images_path (str): The path to the training images.\n",
    "        valid_images_path (str): The path to the validation images.\n",
    "        test_images_path (str): The path to the test\n",
    "    \n",
    "    Returns:\n",
    "        None\n",
    "    \"\"\"\n",
    "\n",
    "    with open(config_file_path, 'r') as f:\n",
    "        content = f.readlines()\n",
    "\n",
    "    for i, line in enumerate(content):\n",
    "        if line.startswith('train:'):\n",
    "            content[i] = f'train: {train_images_path}\\n'\n",
    "        elif line.startswith('val:'):\n",
    "            content[i] = f'val: {valid_images_path}\\n'\n",
    "        elif line.startswith('test:'):\n",
    "            content[i] = f'test: {test_images_path}\\n'\n",
    "\n",
    "    with open(config_file_path, 'w') as f:\n",
    "        f.writelines(content)"
   ]
  },
  {
   "cell_type": "code",
   "execution_count": null,
   "metadata": {},
   "outputs": [],
   "source": [
    "dataset_path = os.path.join(ROOT_DIR, \"Tomato-Leaf-Disease-63\")\n",
    "dataset_config_file_path = os.path.join(dataset_path, \"data.yaml\")\n",
    "train_images_path = os.path.join(dataset_path, \"train\", \"images\")\n",
    "valid_images_path = os.path.join(dataset_path, \"valid\", \"images\")\n",
    "test_images_path = os.path.join(dataset_path, \"test\", \"images\")\n",
    "training_results_path = os.path.join(ROOT_DIR, \"runs\")"
   ]
  },
  {
   "cell_type": "code",
   "execution_count": null,
   "metadata": {},
   "outputs": [],
   "source": [
    "change_dataset_config_pathnames(\n",
    "    dataset_config_file_path,\n",
    "    train_images_path,\n",
    "    valid_images_path,\n",
    "    test_images_path\n",
    ")"
   ]
  },
  {
   "cell_type": "markdown",
   "metadata": {},
   "source": [
    "Remove previous training results"
   ]
  },
  {
   "cell_type": "code",
   "execution_count": null,
   "metadata": {},
   "outputs": [],
   "source": [
    "if os.path.exists(training_results_path):\n",
    "    shutil.rmtree(training_results_path)"
   ]
  },
  {
   "cell_type": "markdown",
   "metadata": {},
   "source": [
    "### Train model"
   ]
  },
  {
   "cell_type": "code",
   "execution_count": null,
   "metadata": {},
   "outputs": [],
   "source": [
    "model = YOLO('yolov8x.pt')\n",
    "\n",
    "model.info()"
   ]
  },
  {
   "cell_type": "code",
   "execution_count": null,
   "metadata": {},
   "outputs": [],
   "source": [
    "if torch.cuda.is_available():\n",
    "    print(\"CUDA is availible\")\n",
    "    model.to('cuda')\n",
    "else:\n",
    "    print(\"CUDA is not availible\")"
   ]
  },
  {
   "cell_type": "code",
   "execution_count": null,
   "metadata": {},
   "outputs": [],
   "source": [
    "# Training the model\n",
    "results = model.train(\n",
    "    data=dataset_config_file_path,\n",
    "    epochs=100,\n",
    "    imgsz=512,\n",
    "    batch=8,\n",
    "    workers=4,\n",
    "    device=0 if torch.cuda.is_available() else 'cpu',\n",
    ")"
   ]
  },
  {
   "cell_type": "markdown",
   "metadata": {},
   "source": [
    "Move the best YOLO weights to the root directory"
   ]
  },
  {
   "cell_type": "code",
   "execution_count": null,
   "metadata": {},
   "outputs": [],
   "source": [
    "trained_weights_path = os.path.join(training_results_path, \"detect\", \"train\", \"weights\")\n",
    "\n",
    "shutil.move(os.path.join(trained_weights_path, \"best.pt\"), YOLO_WEIGHTS_PATH)\n",
    "shutil.rmtree(trained_weights_path)"
   ]
  },
  {
   "cell_type": "code",
   "execution_count": null,
   "metadata": {},
   "outputs": [],
   "source": []
  }
 ],
 "metadata": {
  "kernelspec": {
   "display_name": ".venv",
   "language": "python",
   "name": "python3"
  },
  "language_info": {
   "codemirror_mode": {
    "name": "ipython",
    "version": 3
   },
   "file_extension": ".py",
   "mimetype": "text/x-python",
   "name": "python",
   "nbconvert_exporter": "python",
   "pygments_lexer": "ipython3",
   "version": "3.11.0"
  }
 },
 "nbformat": 4,
 "nbformat_minor": 2
}
